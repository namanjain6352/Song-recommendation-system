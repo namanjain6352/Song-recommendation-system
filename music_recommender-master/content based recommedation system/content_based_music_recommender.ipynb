{
 "cells": [
  {
   "cell_type": "markdown",
   "metadata": {},
   "source": [
    "# Music recommender system\n",
    "\n",
    "One of the most used machine learning algorithms is recommendation systems. A **recommender** (or recommendation) **system** (or engine) is a filtering system which aim is to predict a rating or preference a user would give to an item, eg. a film, a product, a song, etc.\n",
    "\n",
    "Which type of recommender can we have?   \n",
    "\n",
    "There are two main types of recommender systems: \n",
    "- Content-based filters\n",
    "- Collaborative filters\n",
    "  \n",
    "> Content-based filters predicts what a user likes based on what that particular user has liked in the past. On the other hand, collaborative-based filters predict what a user like based on what other users, that are similar to that particular user, have liked.\n",
    "\n",
    "### 1) Content-based filters\n",
    "\n",
    "Recommendations done using content-based recommenders can be seen as a user-specific classification problem. This classifier learns the user's likes and dislikes from the features of the song.\n",
    "\n",
    "The most straightforward approach is **keyword matching**.\n",
    "\n",
    "In a few words, the idea behind is to extract meaningful keywords present in a song description a user likes, search for the keywords in other song descriptions to estimate similarities among them, and based on that, recommend those songs to the user.\n",
    "\n",
    "*How is this performed?*\n",
    "\n",
    "In our case, because we are working with text and words, **Term Frequency-Inverse Document Frequency (TF-IDF)** can be used for this matching process.\n",
    "  \n",
    "We'll go through the steps for generating a **content-based** music recommender system."
   ]
  },
  {
   "cell_type": "markdown",
   "metadata": {},
   "source": [
    "### Importing required libraries\n",
    "\n",
    "First, we'll import all the required libraries."
   ]
  },
  {
   "cell_type": "code",
   "execution_count": 1,
   "metadata": {},
   "outputs": [],
   "source": [
    "import numpy as np\n",
    "import pandas as pd"
   ]
  },
  {
   "cell_type": "code",
   "execution_count": 2,
   "metadata": {},
   "outputs": [],
   "source": [
    "from typing import List, Dict"
   ]
  },
  {
   "cell_type": "markdown",
   "metadata": {},
   "source": [
    "We have already used the **TF-IDF score before** when performing Twitter sentiment analysis. \n",
    "\n",
    "Likewise, we are going to use TfidfVectorizer from the Scikit-learn package again."
   ]
  },
  {
   "cell_type": "code",
   "execution_count": 3,
   "metadata": {},
   "outputs": [],
   "source": [
    "from sklearn.feature_extraction.text import TfidfVectorizer\n",
    "from sklearn.metrics.pairwise import cosine_similarity"
   ]
  },
  {
   "cell_type": "markdown",
   "metadata": {},
   "source": [
    "### Dataset"
   ]
  },
  {
   "cell_type": "markdown",
   "metadata": {},
   "source": [
    "So imagine that we have the [following dataset](https://www.kaggle.com/mousehead/songlyrics/data#). \n",
    "\n",
    "This dataset contains name, artist, and lyrics for *57650 songs in English*. The data has been acquired from LyricsFreak through scraping."
   ]
  },
  {
   "cell_type": "code",
   "execution_count": 4,
   "metadata": {},
   "outputs": [],
   "source": [
    "songs = pd.read_csv('/Users/sandesh/My_Folder/Python_project/music_recommender-master/content based recommedation system/songdata.csv')"
   ]
  },
  {
   "cell_type": "code",
   "execution_count": 5,
   "metadata": {
    "scrolled": true
   },
   "outputs": [
    {
     "data": {
      "text/html": [
       "<div>\n",
       "<style scoped>\n",
       "    .dataframe tbody tr th:only-of-type {\n",
       "        vertical-align: middle;\n",
       "    }\n",
       "\n",
       "    .dataframe tbody tr th {\n",
       "        vertical-align: top;\n",
       "    }\n",
       "\n",
       "    .dataframe thead th {\n",
       "        text-align: right;\n",
       "    }\n",
       "</style>\n",
       "<table border=\"1\" class=\"dataframe\">\n",
       "  <thead>\n",
       "    <tr style=\"text-align: right;\">\n",
       "      <th></th>\n",
       "      <th>artist</th>\n",
       "      <th>song</th>\n",
       "      <th>link</th>\n",
       "      <th>text</th>\n",
       "    </tr>\n",
       "  </thead>\n",
       "  <tbody>\n",
       "    <tr>\n",
       "      <th>0</th>\n",
       "      <td>ABBA</td>\n",
       "      <td>Ahe's My Kind Of Girl</td>\n",
       "      <td>/a/abba/ahes+my+kind+of+girl_20598417.html</td>\n",
       "      <td>Look at her face, it's a wonderful face  \\nAnd...</td>\n",
       "    </tr>\n",
       "    <tr>\n",
       "      <th>1</th>\n",
       "      <td>ABBA</td>\n",
       "      <td>Andante, Andante</td>\n",
       "      <td>/a/abba/andante+andante_20002708.html</td>\n",
       "      <td>Take it easy with me, please  \\nTouch me gentl...</td>\n",
       "    </tr>\n",
       "    <tr>\n",
       "      <th>2</th>\n",
       "      <td>ABBA</td>\n",
       "      <td>As Good As New</td>\n",
       "      <td>/a/abba/as+good+as+new_20003033.html</td>\n",
       "      <td>I'll never know why I had to go  \\nWhy I had t...</td>\n",
       "    </tr>\n",
       "    <tr>\n",
       "      <th>3</th>\n",
       "      <td>ABBA</td>\n",
       "      <td>Bang</td>\n",
       "      <td>/a/abba/bang_20598415.html</td>\n",
       "      <td>Making somebody happy is a question of give an...</td>\n",
       "    </tr>\n",
       "    <tr>\n",
       "      <th>4</th>\n",
       "      <td>ABBA</td>\n",
       "      <td>Bang-A-Boomerang</td>\n",
       "      <td>/a/abba/bang+a+boomerang_20002668.html</td>\n",
       "      <td>Making somebody happy is a question of give an...</td>\n",
       "    </tr>\n",
       "  </tbody>\n",
       "</table>\n",
       "</div>"
      ],
      "text/plain": [
       "  artist                   song                                        link  \\\n",
       "0   ABBA  Ahe's My Kind Of Girl  /a/abba/ahes+my+kind+of+girl_20598417.html   \n",
       "1   ABBA       Andante, Andante       /a/abba/andante+andante_20002708.html   \n",
       "2   ABBA         As Good As New        /a/abba/as+good+as+new_20003033.html   \n",
       "3   ABBA                   Bang                  /a/abba/bang_20598415.html   \n",
       "4   ABBA       Bang-A-Boomerang      /a/abba/bang+a+boomerang_20002668.html   \n",
       "\n",
       "                                                text  \n",
       "0  Look at her face, it's a wonderful face  \\nAnd...  \n",
       "1  Take it easy with me, please  \\nTouch me gentl...  \n",
       "2  I'll never know why I had to go  \\nWhy I had t...  \n",
       "3  Making somebody happy is a question of give an...  \n",
       "4  Making somebody happy is a question of give an...  "
      ]
     },
     "execution_count": 5,
     "metadata": {},
     "output_type": "execute_result"
    }
   ],
   "source": [
    "songs.head()"
   ]
  },
  {
   "cell_type": "markdown",
   "metadata": {},
   "source": [
    "Because of the dataset being so big, we are going to resample only 5000 random songs."
   ]
  },
  {
   "cell_type": "code",
   "execution_count": 6,
   "metadata": {},
   "outputs": [],
   "source": [
    "songs = songs.sample(n=5000).drop('link', axis=1).reset_index(drop=True)"
   ]
  },
  {
   "cell_type": "markdown",
   "metadata": {},
   "source": [
    "We can notice also the presence of `\\n` in the text, so we are going to remove it."
   ]
  },
  {
   "cell_type": "code",
   "execution_count": 7,
   "metadata": {},
   "outputs": [
    {
     "name": "stderr",
     "output_type": "stream",
     "text": [
      "/var/folders/td/8k879ftd3vqg99f58rcggzyr0000gp/T/ipykernel_1143/269676193.py:1: FutureWarning: The default value of regex will change from True to False in a future version.\n",
      "  songs['text'] = songs['text'].str.replace(r'\\n', '')\n"
     ]
    }
   ],
   "source": [
    "songs['text'] = songs['text'].str.replace(r'\\n', '')"
   ]
  },
  {
   "cell_type": "markdown",
   "metadata": {},
   "source": [
    "After that, we use TF-IDF vectorizerthat calculates the TF-IDF score for each song lyric, word-by-word. \n",
    "\n",
    "Here, we pay particular attention to the arguments we can specify."
   ]
  },
  {
   "cell_type": "code",
   "execution_count": 8,
   "metadata": {},
   "outputs": [],
   "source": [
    "tfidf = TfidfVectorizer(analyzer='word', stop_words='english')"
   ]
  },
  {
   "cell_type": "code",
   "execution_count": 9,
   "metadata": {},
   "outputs": [],
   "source": [
    "lyrics_matrix = tfidf.fit_transform(songs['text'])"
   ]
  },
  {
   "cell_type": "markdown",
   "metadata": {},
   "source": [
    "*How do we use this matrix for a recommendation?* \n",
    "\n",
    "We now need to calculate the similarity of one lyric to another. We are going to use **cosine similarity**.\n",
    "\n",
    "We want to calculate the cosine similarity of each item with every other item in the dataset. So we just pass the lyrics_matrix as argument."
   ]
  },
  {
   "cell_type": "code",
   "execution_count": 10,
   "metadata": {},
   "outputs": [],
   "source": [
    "cosine_similarities = cosine_similarity(lyrics_matrix) "
   ]
  },
  {
   "cell_type": "markdown",
   "metadata": {},
   "source": [
    "Once we get the similarities, we'll store in a dictionary the names of the 50  most similar songs for each song in our dataset."
   ]
  },
  {
   "cell_type": "code",
   "execution_count": 11,
   "metadata": {},
   "outputs": [],
   "source": [
    "similarities = {}"
   ]
  },
  {
   "cell_type": "code",
   "execution_count": 12,
   "metadata": {},
   "outputs": [],
   "source": [
    "for i in range(len(cosine_similarities)):\n",
    "    # Now we'll sort each element in cosine_similarities and get the indexes of the songs. \n",
    "    similar_indices = cosine_similarities[i].argsort()[:-50:-1] \n",
    "    # After that, we'll store in similarities each name of the 50 most similar songs.\n",
    "    # Except the first one that is the same song.\n",
    "    similarities[songs['song'].iloc[i]] = [(cosine_similarities[i][x], songs['song'][x], songs['artist'][x]) for x in similar_indices][1:]"
   ]
  },
  {
   "cell_type": "markdown",
   "metadata": {},
   "source": [
    "After that, all the magic happens. We can use that similarity scores to access the most similar items and give a recommendation.\n",
    "\n",
    "For that, we'll define our Content based recommender class."
   ]
  },
  {
   "cell_type": "code",
   "execution_count": 13,
   "metadata": {},
   "outputs": [],
   "source": [
    "class ContentBasedRecommender:\n",
    "    def __init__(self, matrix):\n",
    "        self.matrix_similar = matrix\n",
    "\n",
    "    def _print_message(self, song, recom_song):\n",
    "        rec_items = len(recom_song)\n",
    "        \n",
    "        print(f'The {rec_items} recommended songs for {song} are:')\n",
    "        for i in range(rec_items):\n",
    "            print(f\"Number {i+1}:\")\n",
    "            print(f\"{recom_song[i][1]} by {recom_song[i][2]} with {round(recom_song[i][0], 3)} similarity score\") \n",
    "            print(\"--------------------\")\n",
    "        \n",
    "    def recommend(self, recommendation):\n",
    "        # Get song to find recommendations for\n",
    "        song = recommendation['song']\n",
    "        # Get number of songs to recommend\n",
    "        number_songs = recommendation['number_songs']\n",
    "        # Get the number of songs most similars from matrix similarities\n",
    "        recom_song = self.matrix_similar[song][:number_songs]\n",
    "        # print each item\n",
    "        self._print_message(song=song, recom_song=recom_song)"
   ]
  },
  {
   "cell_type": "markdown",
   "metadata": {},
   "source": [
    "Now, instantiate class"
   ]
  },
  {
   "cell_type": "code",
   "execution_count": 14,
   "metadata": {},
   "outputs": [],
   "source": [
    "recommedations = ContentBasedRecommender(similarities)"
   ]
  },
  {
   "cell_type": "markdown",
   "metadata": {},
   "source": [
    "Then, we are ready to pick a song from the dataset and make a recommendation."
   ]
  },
  {
   "cell_type": "code",
   "execution_count": 23,
   "metadata": {},
   "outputs": [],
   "source": [
    "recommendation = {\n",
    "    \"song\": songs['song'].iloc[-5000],\n",
    "    \"number_songs\": 10\n",
    "}"
   ]
  },
  {
   "cell_type": "code",
   "execution_count": 17,
   "metadata": {},
   "outputs": [
    {
     "name": "stdout",
     "output_type": "stream",
     "text": [
      "The 48 recommended songs for Dockland are:\n",
      "Number 1:\n",
      "Gone by Kelly Clarkson with 0.185 similarity score\n",
      "--------------------\n",
      "Number 2:\n",
      "Dead Man Walking by David Bowie with 0.177 similarity score\n",
      "--------------------\n",
      "Number 3:\n",
      "Life Goes On by Gloria Estefan with 0.157 similarity score\n",
      "--------------------\n",
      "Number 4:\n",
      "Dreaming by Omd with 0.151 similarity score\n",
      "--------------------\n",
      "Number 5:\n",
      "Somebody Somewhere Help Me by Steve Miller Band with 0.149 similarity score\n",
      "--------------------\n",
      "Number 6:\n",
      "After You've Gone by Judy Garland with 0.131 similarity score\n",
      "--------------------\n",
      "Number 7:\n",
      "Hit The Floor by Linkin Park with 0.128 similarity score\n",
      "--------------------\n",
      "Number 8:\n",
      "I Don't Care by Green Day with 0.127 similarity score\n",
      "--------------------\n",
      "Number 9:\n",
      "In The Cold, Cold, Night by The White Stripes with 0.127 similarity score\n",
      "--------------------\n",
      "Number 10:\n",
      "Anyway by Alphaville with 0.12 similarity score\n",
      "--------------------\n",
      "Number 11:\n",
      "No One Told Him by Thin Lizzy with 0.119 similarity score\n",
      "--------------------\n",
      "Number 12:\n",
      "I Had A Dream by Hollies with 0.119 similarity score\n",
      "--------------------\n",
      "Number 13:\n",
      "Cold by Eurythmics with 0.115 similarity score\n",
      "--------------------\n",
      "Number 14:\n",
      "The Tell-Tale Heart by Alan Parsons Project with 0.11 similarity score\n",
      "--------------------\n",
      "Number 15:\n",
      "Since You've Been Gone by Weird Al Yankovic with 0.109 similarity score\n",
      "--------------------\n",
      "Number 16:\n",
      "Cowboy Song by Blur with 0.109 similarity score\n",
      "--------------------\n",
      "Number 17:\n",
      "After The Garden by Neil Young with 0.108 similarity score\n",
      "--------------------\n",
      "Number 18:\n",
      "After The Fall by Journey with 0.108 similarity score\n",
      "--------------------\n",
      "Number 19:\n",
      "Cold, Cold Heart by Wet Wet Wet with 0.108 similarity score\n",
      "--------------------\n",
      "Number 20:\n",
      "The Storm by Ray Boltz with 0.105 similarity score\n",
      "--------------------\n",
      "Number 21:\n",
      "The Drop by Peter Gabriel with 0.104 similarity score\n",
      "--------------------\n",
      "Number 22:\n",
      "Ain't No Sunshine by Otis Redding with 0.104 similarity score\n",
      "--------------------\n",
      "Number 23:\n",
      "Back To Me by Richard Marx with 0.104 similarity score\n",
      "--------------------\n",
      "Number 24:\n",
      "Ahmad's Blues by Natalie Cole with 0.103 similarity score\n",
      "--------------------\n",
      "Number 25:\n",
      "Outside by Nick Drake with 0.102 similarity score\n",
      "--------------------\n",
      "Number 26:\n",
      "Wake Up Call by Maroon 5 with 0.101 similarity score\n",
      "--------------------\n",
      "Number 27:\n",
      "Jealous Guy by Faces with 0.101 similarity score\n",
      "--------------------\n",
      "Number 28:\n",
      "Never Been Gone by Carly Simon with 0.101 similarity score\n",
      "--------------------\n",
      "Number 29:\n",
      "You Are The Sunshine Of My Life by Engelbert Humperdinck with 0.1 similarity score\n",
      "--------------------\n",
      "Number 30:\n",
      "In Search Of The Peace Of Mind by Scorpions with 0.1 similarity score\n",
      "--------------------\n",
      "Number 31:\n",
      "Just Relax by Eddie Cochran with 0.1 similarity score\n",
      "--------------------\n",
      "Number 32:\n",
      "Our Time Is Here by Demi Lovato with 0.099 similarity score\n",
      "--------------------\n",
      "Number 33:\n",
      "Try by Backstreet Boys with 0.099 similarity score\n",
      "--------------------\n",
      "Number 34:\n",
      "Ain't No Sunshine When She's Gone by Bob Marley with 0.098 similarity score\n",
      "--------------------\n",
      "Number 35:\n",
      "Good Girl Gone Bad by Kiss with 0.097 similarity score\n",
      "--------------------\n",
      "Number 36:\n",
      "One World by John Denver with 0.097 similarity score\n",
      "--------------------\n",
      "Number 37:\n",
      "I'm Waiting For The Day by Beach Boys with 0.097 similarity score\n",
      "--------------------\n",
      "Number 38:\n",
      "Don't Stop by Glee with 0.096 similarity score\n",
      "--------------------\n",
      "Number 39:\n",
      "Believe by Justin Bieber with 0.095 similarity score\n",
      "--------------------\n",
      "Number 40:\n",
      "Don't Stop by Elton John with 0.093 similarity score\n",
      "--------------------\n",
      "Number 41:\n",
      "I Look To You by Selah with 0.092 similarity score\n",
      "--------------------\n",
      "Number 42:\n",
      "She Gets That Way by Kenny Chesney with 0.092 similarity score\n",
      "--------------------\n",
      "Number 43:\n",
      "Real World by Queensryche with 0.092 similarity score\n",
      "--------------------\n",
      "Number 44:\n",
      "Turned The Corner by Yoko Ono with 0.092 similarity score\n",
      "--------------------\n",
      "Number 45:\n",
      "One Time by King Crimson with 0.091 similarity score\n",
      "--------------------\n",
      "Number 46:\n",
      "If I Don't Have You by Backstreet Boys with 0.091 similarity score\n",
      "--------------------\n",
      "Number 47:\n",
      "The World In Which We Live by Wang Chung with 0.091 similarity score\n",
      "--------------------\n",
      "Number 48:\n",
      "Start Of The Day by Ocean Colour Scene with 0.09 similarity score\n",
      "--------------------\n"
     ]
    }
   ],
   "source": [
    "recommedations.recommend(recommendation)"
   ]
  },
  {
   "cell_type": "markdown",
   "metadata": {},
   "source": [
    "And we can pick another random song and recommend again:"
   ]
  },
  {
   "cell_type": "code",
   "execution_count": 20,
   "metadata": {},
   "outputs": [],
   "source": [
    "recommendation2 = {\n",
    "    \"song\": songs['song'].iloc[120],\n",
    "    \"number_songs\": 16 \n",
    "}"
   ]
  },
  {
   "cell_type": "code",
   "execution_count": 21,
   "metadata": {},
   "outputs": [
    {
     "name": "stdout",
     "output_type": "stream",
     "text": [
      "The 16 recommended songs for All I Ever Need Is You are:\n",
      "Number 1:\n",
      "The Passenger by INXS with 0.884 similarity score\n",
      "--------------------\n",
      "Number 2:\n",
      "Girls In Their Summer Clothes by Bruce Springsteen with 0.874 similarity score\n",
      "--------------------\n",
      "Number 3:\n",
      "The Real Thing by Human League with 0.872 similarity score\n",
      "--------------------\n",
      "Number 4:\n",
      "Bridegroom by Amy Grant with 0.872 similarity score\n",
      "--------------------\n",
      "Number 5:\n",
      "I Come First by Ne-Yo with 0.853 similarity score\n",
      "--------------------\n",
      "Number 6:\n",
      "Halfway 'round The World by Carly Simon with 0.838 similarity score\n",
      "--------------------\n",
      "Number 7:\n",
      "Henry Lee by Nick Cave with 0.789 similarity score\n",
      "--------------------\n",
      "Number 8:\n",
      "Hot by Inna with 0.765 similarity score\n",
      "--------------------\n",
      "Number 9:\n",
      "L'l'lucy by Mud with 0.752 similarity score\n",
      "--------------------\n",
      "Number 10:\n",
      "Eat Your Greens by Lloyd Cole with 0.72 similarity score\n",
      "--------------------\n",
      "Number 11:\n",
      "The Kid's A Looker by Morrissey with 0.718 similarity score\n",
      "--------------------\n",
      "Number 12:\n",
      "In A Foreign Land by Kinks with 0.699 similarity score\n",
      "--------------------\n",
      "Number 13:\n",
      "Spell Of Desire by Kylie Minogue with 0.622 similarity score\n",
      "--------------------\n",
      "Number 14:\n",
      "Peep-hole by Guided By Voices with 0.594 similarity score\n",
      "--------------------\n",
      "Number 15:\n",
      "Get Over It by Avril Lavigne with 0.542 similarity score\n",
      "--------------------\n",
      "Number 16:\n",
      "Ooh La La by Rod Stewart with 0.508 similarity score\n",
      "--------------------\n"
     ]
    }
   ],
   "source": [
    "recommedations.recommend(recommendation2)"
   ]
  },
  {
   "cell_type": "code",
   "execution_count": null,
   "metadata": {},
   "outputs": [],
   "source": []
  }
 ],
 "metadata": {
  "kernelspec": {
   "display_name": "Python 3 (ipykernel)",
   "language": "python",
   "name": "python3"
  },
  "language_info": {
   "codemirror_mode": {
    "name": "ipython",
    "version": 3
   },
   "file_extension": ".py",
   "mimetype": "text/x-python",
   "name": "python",
   "nbconvert_exporter": "python",
   "pygments_lexer": "ipython3",
   "version": "3.9.12"
  }
 },
 "nbformat": 4,
 "nbformat_minor": 2
}
